{
 "cells": [
  {
   "cell_type": "markdown",
   "id": "af3249c6",
   "metadata": {},
   "source": [
    "# 03_yukawa_lensing\n",
    "Toy residuals for repulsive Yukawa term."
   ]
  },
  {
   "cell_type": "code",
   "execution_count": null,
   "id": "301fbb91",
   "metadata": {},
   "outputs": [],
   "source": [
    "import numpy as np\n",
    "import matplotlib.pyplot as plt\n",
    "\n",
    "theta_E = 1.0\n",
    "a = 0.25\n",
    "lam = 0.8\n",
    "R = np.linspace(0.6, 3.0, 800)\n",
    "\n",
    "def alpha0(r):\n",
    "    return theta_E**2/r\n",
    "\n",
    "def dalpha0(r):\n",
    "    return -theta_E**2/(r**2)\n",
    "\n",
    "def alphaY(r):\n",
    "    return alpha0(r)*(1.0 - a*np.exp(-r/lam))\n",
    "\n",
    "def dalphaY(r):\n",
    "    return dalpha0(r)*(1.0 - a*np.exp(-r/lam)) + alpha0(r)*(a*np.exp(-r/lam)/lam)\n",
    "\n",
    "def mu(alpha_fn, dalpha_fn, r):\n",
    "    lt = 1.0 - alpha_fn(r)/r\n",
    "    lr = 1.0 - dalpha_fn(r)\n",
    "    detA = lt*lr\n",
    "    return 1.0/detA\n",
    "\n",
    "mu0 = mu(alpha0, dalpha0, R)\n",
    "muY = mu(alphaY, dalphaY, R)\n",
    "\n",
    "mask = np.isfinite(mu0) & np.isfinite(muY) & (np.abs(mu0) < 1e3) & (np.abs(muY) < 1e3)\n",
    "dmu = muY[mask] - mu0[mask]\n",
    "resid_rms = float(np.sqrt(np.mean(dmu**2)))\n",
    "parity_flip = int(np.sum(np.sign(muY[mask]) != np.sign(mu0[mask])))\n",
    "\n",
    "plt.figure()\n",
    "plt.plot(R[mask], dmu)\n",
    "plt.xlabel(\"R/theta_E\")\n",
    "plt.ylabel(\"Delta mu\")\n",
    "plt.title(\"Yukawa residual Delta mu\")\n",
    "plt.show()\n",
    "\n",
    "print(\"resid_rms\", resid_rms, \"parity_flip_count\", parity_flip)\n",
    "assert resid_rms > 1e-5\n",
    "print(\"PASS\")"
   ]
  }
 ],
 "metadata": {},
 "nbformat": 4,
 "nbformat_minor": 5
}
