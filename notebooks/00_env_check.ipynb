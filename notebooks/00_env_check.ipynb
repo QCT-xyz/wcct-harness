{
 "cells": [
  {
   "cell_type": "markdown",
   "id": "672827a9",
   "metadata": {},
   "source": [
    "# 00_env_check\n",
    "Run this top to bottom."
   ]
  },
  {
   "cell_type": "code",
   "execution_count": null,
   "id": "da1f8dd4",
   "metadata": {},
   "outputs": [],
   "source": [
    "import sys, numpy as np, scipy, matplotlib, onnxruntime, numba, networkx\n",
    "print(\"python\", sys.version.split()[0])\n",
    "print(\"numpy\", np.__version__)\n",
    "print(\"scipy\", scipy.__version__)\n",
    "print(\"matplotlib\", matplotlib.__version__)\n",
    "print(\"onnxruntime\", onnxruntime.__version__)\n",
    "print(\"numba\", numba.__version__)\n",
    "print(\"networkx\", networkx.__version__)"
   ]
  },
  {
   "cell_type": "code",
   "execution_count": null,
   "id": "617dde78",
   "metadata": {},
   "outputs": [],
   "source": [
    "import numpy as np\n",
    "from scipy.sparse import diags\n",
    "from scipy.sparse.linalg import cg\n",
    "n = 64\n",
    "diag = np.ones(n)*2\n",
    "off = np.ones(n-1)*-1\n",
    "A = diags([off, diag, off], [-1, 0, 1]).tocsr()\n",
    "b = np.ones(n)\n",
    "x, _ = cg(A, b, maxiter=2000, rtol=1e-10, atol=0.0)\n",
    "print(float(x.mean()))"
   ]
  }
 ],
 "metadata": {},
 "nbformat": 4,
 "nbformat_minor": 5
}
