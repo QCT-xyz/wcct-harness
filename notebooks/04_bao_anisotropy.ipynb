{
 "cells": [
  {
   "cell_type": "markdown",
   "id": "41a4172e",
   "metadata": {},
   "source": [
    "# 04_bao_anisotropy\n",
    "Toy E/B-style parity from an anisotropic ring."
   ]
  },
  {
   "cell_type": "code",
   "execution_count": null,
   "id": "02238d2b",
   "metadata": {},
   "outputs": [],
   "source": [
    "import numpy as np\n",
    "import matplotlib.pyplot as plt\n",
    "\n",
    "np.random.seed(0)\n",
    "K = 256\n",
    "kmax = 3.0\n",
    "kx = np.linspace(-kmax, kmax, K, dtype=np.float32)\n",
    "ky = np.linspace(-kmax, kmax, K, dtype=np.float32)\n",
    "KX, KY = np.meshgrid(kx, ky, indexing=\"xy\")\n",
    "R = np.sqrt(KX**2 + KY**2)\n",
    "TH = np.arctan2(KY, KX)\n",
    "k0 = 1.2\n",
    "sig = 0.25\n",
    "eps = 0.12\n",
    "P = np.exp(-((R - k0)**2) / (2.0*sig*sig)) * (1.0 + eps*np.cos(2.0*TH))\n",
    "\n",
    "bins = 180\n",
    "edges = np.linspace(-np.pi, np.pi, bins+1, dtype=np.float64)\n",
    "idx = np.digitize(TH.ravel(), edges) - 1\n",
    "idx = np.clip(idx, 0, bins-1)\n",
    "cnt = np.bincount(idx, minlength=bins).astype(np.float64)\n",
    "sumP = np.bincount(idx, weights=P.ravel(), minlength=bins).astype(np.float64)\n",
    "F = sumP / (cnt + 1e-12)\n",
    "theta = 0.5*(edges[:-1] + edges[1:])\n",
    "\n",
    "a = np.fft.rfft(F)\n",
    "amps = np.abs(a)\n",
    "even = np.sum(amps[2::2])\n",
    "odd = np.sum(amps[1::2])\n",
    "ratio = float((even + 1e-12)/(odd + 1e-12))\n",
    "\n",
    "plt.figure()\n",
    "plt.plot(theta, F)\n",
    "plt.xlabel(\"theta\")\n",
    "plt.ylabel(\"F(theta)\")\n",
    "plt.title(\"BAO anisotropy toy\")\n",
    "plt.show()\n",
    "\n",
    "print(\"E_over_B\", ratio)\n",
    "assert np.isfinite(F).all()\n",
    "assert ratio > 1.05\n",
    "print(\"PASS\")"
   ]
  }
 ],
 "metadata": {},
 "nbformat": 4,
 "nbformat_minor": 5
}
